{
  "cells": [
    {
      "cell_type": "markdown",
      "metadata": {
        "id": "view-in-github",
        "colab_type": "text"
      },
      "source": [
        "<a href=\"https://colab.research.google.com/github/srikanthyeli/Anthendication-/blob/main/chatbot_using_python.ipynb\" target=\"_parent\"><img src=\"https://colab.research.google.com/assets/colab-badge.svg\" alt=\"Open In Colab\"/></a>"
      ]
    },
    {
      "cell_type": "code",
      "execution_count": null,
      "metadata": {
        "colab": {
          "base_uri": "https://localhost:8080/"
        },
        "id": "zYDx3_BfKxUt",
        "outputId": "8804bd5c-c146-4b90-f35d-ba932d8eebdb"
      },
      "outputs": [
        {
          "name": "stdout",
          "output_type": "stream",
          "text": [
            "Requirement already satisfied: nltk in /usr/local/lib/python3.10/dist-packages (3.8.1)\n",
            "Requirement already satisfied: click in /usr/local/lib/python3.10/dist-packages (from nltk) (8.1.7)\n",
            "Requirement already satisfied: joblib in /usr/local/lib/python3.10/dist-packages (from nltk) (1.3.2)\n",
            "Requirement already satisfied: regex>=2021.8.3 in /usr/local/lib/python3.10/dist-packages (from nltk) (2023.6.3)\n",
            "Requirement already satisfied: tqdm in /usr/local/lib/python3.10/dist-packages (from nltk) (4.66.1)\n"
          ]
        }
      ],
      "source": [
        "\n",
        "pip install nltk"
      ]
    },
    {
      "cell_type": "code",
      "execution_count": null,
      "metadata": {
        "colab": {
          "base_uri": "https://localhost:8080/"
        },
        "id": "0XS6In59K_IT",
        "outputId": "d41e8135-bb67-4c0e-8a6d-e7d446ffa5f5"
      },
      "outputs": [
        {
          "name": "stdout",
          "output_type": "stream",
          "text": [
            "Collecting newspaper3k\n",
            "  Downloading newspaper3k-0.2.8-py3-none-any.whl (211 kB)\n",
            "\u001b[?25l     \u001b[90m━━━━━━━━━━━━━━━━━━━━━━━━━━━━━━━━━━━━━━━━\u001b[0m \u001b[32m0.0/211.1 kB\u001b[0m \u001b[31m?\u001b[0m eta \u001b[36m-:--:--\u001b[0m\r\u001b[2K     \u001b[91m━━━━━━━━━━━━━━━━━━━━━━━━━━━━━━━━\u001b[0m\u001b[91m╸\u001b[0m\u001b[90m━━━━━━━\u001b[0m \u001b[32m174.1/211.1 kB\u001b[0m \u001b[31m5.0 MB/s\u001b[0m eta \u001b[36m0:00:01\u001b[0m\r\u001b[2K     \u001b[90m━━━━━━━━━━━━━━━━━━━━━━━━━━━━━━━━━━━━━━━━\u001b[0m \u001b[32m211.1/211.1 kB\u001b[0m \u001b[31m4.4 MB/s\u001b[0m eta \u001b[36m0:00:00\u001b[0m\n",
            "\u001b[?25hRequirement already satisfied: beautifulsoup4>=4.4.1 in /usr/local/lib/python3.10/dist-packages (from newspaper3k) (4.11.2)\n",
            "Requirement already satisfied: Pillow>=3.3.0 in /usr/local/lib/python3.10/dist-packages (from newspaper3k) (9.4.0)\n",
            "Requirement already satisfied: PyYAML>=3.11 in /usr/local/lib/python3.10/dist-packages (from newspaper3k) (6.0.1)\n",
            "Collecting cssselect>=0.9.2 (from newspaper3k)\n",
            "  Downloading cssselect-1.2.0-py2.py3-none-any.whl (18 kB)\n",
            "Requirement already satisfied: lxml>=3.6.0 in /usr/local/lib/python3.10/dist-packages (from newspaper3k) (4.9.4)\n",
            "Requirement already satisfied: nltk>=3.2.1 in /usr/local/lib/python3.10/dist-packages (from newspaper3k) (3.8.1)\n",
            "Requirement already satisfied: requests>=2.10.0 in /usr/local/lib/python3.10/dist-packages (from newspaper3k) (2.31.0)\n",
            "Collecting feedparser>=5.2.1 (from newspaper3k)\n",
            "  Downloading feedparser-6.0.11-py3-none-any.whl (81 kB)\n",
            "\u001b[2K     \u001b[90m━━━━━━━━━━━━━━━━━━━━━━━━━━━━━━━━━━━━━━━━\u001b[0m \u001b[32m81.3/81.3 kB\u001b[0m \u001b[31m9.9 MB/s\u001b[0m eta \u001b[36m0:00:00\u001b[0m\n",
            "\u001b[?25hCollecting tldextract>=2.0.1 (from newspaper3k)\n",
            "  Downloading tldextract-5.1.1-py3-none-any.whl (97 kB)\n",
            "\u001b[2K     \u001b[90m━━━━━━━━━━━━━━━━━━━━━━━━━━━━━━━━━━━━━━━━\u001b[0m \u001b[32m97.7/97.7 kB\u001b[0m \u001b[31m9.6 MB/s\u001b[0m eta \u001b[36m0:00:00\u001b[0m\n",
            "\u001b[?25hCollecting feedfinder2>=0.0.4 (from newspaper3k)\n",
            "  Downloading feedfinder2-0.0.4.tar.gz (3.3 kB)\n",
            "  Preparing metadata (setup.py) ... \u001b[?25l\u001b[?25hdone\n",
            "Collecting jieba3k>=0.35.1 (from newspaper3k)\n",
            "  Downloading jieba3k-0.35.1.zip (7.4 MB)\n",
            "\u001b[2K     \u001b[90m━━━━━━━━━━━━━━━━━━━━━━━━━━━━━━━━━━━━━━━━\u001b[0m \u001b[32m7.4/7.4 MB\u001b[0m \u001b[31m19.0 MB/s\u001b[0m eta \u001b[36m0:00:00\u001b[0m\n",
            "\u001b[?25h  Preparing metadata (setup.py) ... \u001b[?25l\u001b[?25hdone\n",
            "Requirement already satisfied: python-dateutil>=2.5.3 in /usr/local/lib/python3.10/dist-packages (from newspaper3k) (2.8.2)\n",
            "Collecting tinysegmenter==0.3 (from newspaper3k)\n",
            "  Downloading tinysegmenter-0.3.tar.gz (16 kB)\n",
            "  Preparing metadata (setup.py) ... \u001b[?25l\u001b[?25hdone\n",
            "Requirement already satisfied: soupsieve>1.2 in /usr/local/lib/python3.10/dist-packages (from beautifulsoup4>=4.4.1->newspaper3k) (2.5)\n",
            "Requirement already satisfied: six in /usr/local/lib/python3.10/dist-packages (from feedfinder2>=0.0.4->newspaper3k) (1.16.0)\n",
            "Collecting sgmllib3k (from feedparser>=5.2.1->newspaper3k)\n",
            "  Downloading sgmllib3k-1.0.0.tar.gz (5.8 kB)\n",
            "  Preparing metadata (setup.py) ... \u001b[?25l\u001b[?25hdone\n",
            "Requirement already satisfied: click in /usr/local/lib/python3.10/dist-packages (from nltk>=3.2.1->newspaper3k) (8.1.7)\n",
            "Requirement already satisfied: joblib in /usr/local/lib/python3.10/dist-packages (from nltk>=3.2.1->newspaper3k) (1.3.2)\n",
            "Requirement already satisfied: regex>=2021.8.3 in /usr/local/lib/python3.10/dist-packages (from nltk>=3.2.1->newspaper3k) (2023.6.3)\n",
            "Requirement already satisfied: tqdm in /usr/local/lib/python3.10/dist-packages (from nltk>=3.2.1->newspaper3k) (4.66.1)\n",
            "Requirement already satisfied: charset-normalizer<4,>=2 in /usr/local/lib/python3.10/dist-packages (from requests>=2.10.0->newspaper3k) (3.3.2)\n",
            "Requirement already satisfied: idna<4,>=2.5 in /usr/local/lib/python3.10/dist-packages (from requests>=2.10.0->newspaper3k) (3.6)\n",
            "Requirement already satisfied: urllib3<3,>=1.21.1 in /usr/local/lib/python3.10/dist-packages (from requests>=2.10.0->newspaper3k) (2.0.7)\n",
            "Requirement already satisfied: certifi>=2017.4.17 in /usr/local/lib/python3.10/dist-packages (from requests>=2.10.0->newspaper3k) (2023.11.17)\n",
            "Collecting requests-file>=1.4 (from tldextract>=2.0.1->newspaper3k)\n",
            "  Downloading requests_file-2.0.0-py2.py3-none-any.whl (4.2 kB)\n",
            "Requirement already satisfied: filelock>=3.0.8 in /usr/local/lib/python3.10/dist-packages (from tldextract>=2.0.1->newspaper3k) (3.13.1)\n",
            "Building wheels for collected packages: tinysegmenter, feedfinder2, jieba3k, sgmllib3k\n",
            "  Building wheel for tinysegmenter (setup.py) ... \u001b[?25l\u001b[?25hdone\n",
            "  Created wheel for tinysegmenter: filename=tinysegmenter-0.3-py3-none-any.whl size=13538 sha256=3694c66ae45eb560dda3a5323454f36ca2a58b65b621203dd382382a3b44444c\n",
            "  Stored in directory: /root/.cache/pip/wheels/c8/d6/6c/384f58df48c00b9a31d638005143b5b3ac62c3d25fb1447f23\n",
            "  Building wheel for feedfinder2 (setup.py) ... \u001b[?25l\u001b[?25hdone\n",
            "  Created wheel for feedfinder2: filename=feedfinder2-0.0.4-py3-none-any.whl size=3340 sha256=57e0763ad333d12bb076d3eddf3e67074b4e7375b32bad2a7fe8bfe7e16801c3\n",
            "  Stored in directory: /root/.cache/pip/wheels/97/02/e7/a1ff1760e12bdbaab0ac824fae5c1bc933e41c4ccd6a8f8edb\n",
            "  Building wheel for jieba3k (setup.py) ... \u001b[?25l\u001b[?25hdone\n",
            "  Created wheel for jieba3k: filename=jieba3k-0.35.1-py3-none-any.whl size=7398381 sha256=56c4162053c8829d5bc6005f3b88a707db65d5def68f80041f06141c1e0b3227\n",
            "  Stored in directory: /root/.cache/pip/wheels/7a/c4/0c/12a9a314ecac499456c4c3b2fcc2f635a3b45a39dfbd240299\n",
            "  Building wheel for sgmllib3k (setup.py) ... \u001b[?25l\u001b[?25hdone\n",
            "  Created wheel for sgmllib3k: filename=sgmllib3k-1.0.0-py3-none-any.whl size=6048 sha256=aed8a0c046e51b82922c26f3eb68be351b9343eb1320ac1c7355988672f735b5\n",
            "  Stored in directory: /root/.cache/pip/wheels/f0/69/93/a47e9d621be168e9e33c7ce60524393c0b92ae83cf6c6e89c5\n",
            "Successfully built tinysegmenter feedfinder2 jieba3k sgmllib3k\n",
            "Installing collected packages: tinysegmenter, sgmllib3k, jieba3k, feedparser, cssselect, requests-file, feedfinder2, tldextract, newspaper3k\n",
            "Successfully installed cssselect-1.2.0 feedfinder2-0.0.4 feedparser-6.0.11 jieba3k-0.35.1 newspaper3k-0.2.8 requests-file-2.0.0 sgmllib3k-1.0.0 tinysegmenter-0.3 tldextract-5.1.1\n"
          ]
        }
      ],
      "source": [
        "pip install newspaper3k\n"
      ]
    },
    {
      "cell_type": "code",
      "execution_count": null,
      "metadata": {
        "id": "QXxfzMleLG0V"
      },
      "outputs": [],
      "source": [
        "#import the packages\n",
        "from newspaper import Article\n",
        "import random\n",
        "import string\n",
        "import numpy as np\n",
        "import warnings\n",
        "import nltk\n",
        "from sklearn.feature_extraction.text import TfidfVectorizer\n",
        "from sklearn.metrics.pairwise import cosine_similarity"
      ]
    },
    {
      "cell_type": "code",
      "execution_count": null,
      "metadata": {
        "id": "a0NTi4elLRVn"
      },
      "outputs": [],
      "source": [
        "warnings.filterwarnings('ignore')"
      ]
    },
    {
      "cell_type": "code",
      "execution_count": null,
      "metadata": {
        "colab": {
          "base_uri": "https://localhost:8080/"
        },
        "id": "y5gXZfNbLYsb",
        "outputId": "d04929f2-2032-4c0c-8fa9-43006620756c"
      },
      "outputs": [
        {
          "data": {
            "text/plain": [
              "True"
            ]
          },
          "execution_count": 5,
          "metadata": {},
          "output_type": "execute_result"
        }
      ],
      "source": [
        "nltk.download('punkt',quiet=True)\n",
        "nltk.download('wordnet',quiet=True)\n"
      ]
    },
    {
      "cell_type": "code",
      "execution_count": null,
      "metadata": {
        "colab": {
          "base_uri": "https://localhost:8080/"
        },
        "id": "Ha9kjBO7LiZB",
        "outputId": "357b1bab-7cb2-4d72-d049-668fdf082a38"
      },
      "outputs": [
        {
          "name": "stdout",
          "output_type": "stream",
          "text": [
            "\"Visible light\" redirects here. For all parts of the electromagnetic spectrum that can be seen by the eye, see Visible spectrum\n",
            "\n",
            "Rays, or beams of light shine through metal patterns into a railway station.\n",
            "\n",
            "Light is a form of electromagnetic radiation. It is the natural agent that stimulates sight and makes things easy to see.\n",
            "\n",
            "It has a wavelength which can be seen by the human eye.[1] Animals can also see light. Light makes up a small part of both the electromagnetic spectrum and radiation given off by stars like the sun. The study of light is known as optics. When light hits an opaque object, it makes a shadow. When light hits a transparent object, it passes through it almost completely without making a shadow.\n",
            "\n",
            "Light is a form of electromagnetic radiation that shows properties of both waves and particles. It is a form of energy. Light also keeps the Earth warm. Light exists in tiny energy packets called photons. Each wave has a wavelength or frequency. The human eye sees each wavelength as a different color. Rainbows show the entire spectrum of visible light. The separate colors, moving in from the outer edges, are red, orange, yellow, green, blue, indigo and violet. Other colors can be seen only with special cameras or instruments: Wavelengths below the frequency of red are called infrared, and higher than of violet are called ultraviolet.\n",
            "\n",
            "The other main properties of light are intensity, polarization, phase and orbital angular momentum.\n",
            "\n",
            "In physics, the term light sometimes refers to electromagnetic radiation of any wavelength, whether visible or not.[2][3] This article is about visible light. Read the electromagnetic radiation article for the general concept.\n",
            "\n",
            "The main source of light on Earth is the Sun.\n",
            "\n",
            "About light [ change | change source ]\n",
            "\n",
            "Laser beams.\n",
            "\n",
            "In a vacuum, the speed of light is 299,792,458 meters per second,[4] or about 186,282 miles per second. This means it takes about 7 minutes for light to reach Earth from the Sun.[5][6]\n",
            "\n",
            "Light moves in a straight line. The straight line path is often drawn as a ray. Humans can only see rays of light traveling directly into the eyes. Ray diagrams are used to illustrate light traveling from one place to another. A beam of light can be thought of as a set of light rays.\n",
            "\n",
            "Objects that block rays of light can create shadows. Opaque objects block all light rays and create a darker shadow, translucent objects block some rays and scatter others. They create a lighter shadow. Transparent things will allow almost all light rays to pass straight through. They have no or very little shadow. Light can easily move through transparent things. When light is not in a vacuum, it travels slower than the speed of light. The slowest speed of light ever recorded was 39 miles per hour.[7] Our eyes react to light. When we see something, we see the light it reflects, or the light it gives off. For example, a lamp gives off light. Everything else in the room the lamp is in reflects the lamp's light. As the viewer, one cannot directly determine where the ray of light came from prior to reflecting off an object.\n",
            "\n",
            "Every color of light has a different wavelength. The shorter the wavelength, the more energy the light has. The speed of light does not depend on its energy. Going through translucent objects can slow light down by a very small amount.\n",
            "\n",
            "White light is made up of all the different colors of light added together. When white light shines through a prism, it splits up into different colors, becoming a spectrum. The spectrum contains all of the wavelengths of light that we can see. Red light has the longest wavelength, and violet (purple) light has the shortest.\n",
            "\n",
            "Light with a wavelength shorter than violet is called ultraviolet light. X-rays and gamma rays are forms of light with even shorter wavelengths than ultraviolet. Light with a wavelength longer than red is called infrared light. Radio waves are a form of electromagnetic radiation with a wavelength longer than infrared light. The microwaves that are used to heat food in a microwave oven are also a form of electromagnetic radiation. Our eyes cannot see those kinds of energy, but there are some cameras that can see them. The various forms of light, both visible and invisible are the electromagnetic spectrum.\n",
            "\n",
            "When light is refracted in raindrops, a rainbow is made. The raindrop acts like a prism and refracts the light until we can see the colors of the spectrum.\n",
            "\n",
            "Rainbow in Budapest shows the colors of the visible spectrum.\n",
            "\n",
            "Light and color are forms of analog information. However, electronic cameras and computer displays work with digital information. Electronic cameras or document scanners make a digital version of a color image by separating out the full color image into separate red, green, and blue images. Later, a digital display uses pixels of just those three colors. Computer screens use only these three colors in different brightness levels. The brain puts them together to see all of the other colors in the image.\n",
            "\n",
            "People think of objects as having color. The color of objects is because the molecules that make up the object absorb certain light waves, leaving the other light waves to bounce off. The human eye sees the wavelengths of all of the light that was not absorbed. This gives the brain with the impression of a color.\n"
          ]
        }
      ],
      "source": [
        "\n",
        "#get artical url\n",
        "article= Article('https://simple.wikipedia.org/wiki/Light')\n",
        "article.download()\n",
        "article.parse()\n",
        "article.nlp()\n",
        "corpus=article.text\n",
        "#print\n",
        "print(corpus)"
      ]
    },
    {
      "cell_type": "code",
      "execution_count": null,
      "metadata": {
        "colab": {
          "base_uri": "https://localhost:8080/"
        },
        "id": "gXjusId8LsGq",
        "outputId": "5e87fb17-c24c-4cdd-92c1-be1f268d1da6"
      },
      "outputs": [
        {
          "name": "stdout",
          "output_type": "stream",
          "text": [
            "!\"#$%&'()*+,-./:;<=>?@[\\]^_`{|}~\n",
            "{33: None, 34: None, 35: None, 36: None, 37: None, 38: None, 39: None, 40: None, 41: None, 42: None, 43: None, 44: None, 45: None, 46: None, 47: None, 58: None, 59: None, 60: None, 61: None, 62: None, 63: None, 64: None, 91: None, 92: None, 93: None, 94: None, 95: None, 96: None, 123: None, 124: None, 125: None, 126: None}\n"
          ]
        }
      ],
      "source": [
        "\n",
        "#creating a dictionary to remove the punctuation\n",
        "remove_punct_dict=dict( (ord(punct),None) for punct in string.punctuation)\n",
        "print(string.punctuation)\n",
        "print(remove_punct_dict)"
      ]
    },
    {
      "cell_type": "code",
      "execution_count": null,
      "metadata": {
        "colab": {
          "base_uri": "https://localhost:8080/"
        },
        "id": "thQULip4L1w3",
        "outputId": "be548b90-2048-4cc5-fd77-bbf62508074c"
      },
      "outputs": [
        {
          "name": "stdout",
          "output_type": "stream",
          "text": [
            "['visible', 'light', 'redirects', 'here', 'for', 'all', 'parts', 'of', 'the', 'electromagnetic', 'spectrum', 'that', 'can', 'be', 'seen', 'by', 'the', 'eye', 'see', 'visible', 'spectrum', 'rays', 'or', 'beams', 'of', 'light', 'shine', 'through', 'metal', 'patterns', 'into', 'a', 'railway', 'station', 'light', 'is', 'a', 'form', 'of', 'electromagnetic', 'radiation', 'it', 'is', 'the', 'natural', 'agent', 'that', 'stimulates', 'sight', 'and', 'makes', 'things', 'easy', 'to', 'see', 'it', 'has', 'a', 'wavelength', 'which', 'can', 'be', 'seen', 'by', 'the', 'human', 'eye1', 'animals', 'can', 'also', 'see', 'light', 'light', 'makes', 'up', 'a', 'small', 'part', 'of', 'both', 'the', 'electromagnetic', 'spectrum', 'and', 'radiation', 'given', 'off', 'by', 'stars', 'like', 'the', 'sun', 'the', 'study', 'of', 'light', 'is', 'known', 'as', 'optics', 'when', 'light', 'hits', 'an', 'opaque', 'object', 'it', 'makes', 'a', 'shadow', 'when', 'light', 'hits', 'a', 'transparent', 'object', 'it', 'passes', 'through', 'it', 'almost', 'completely', 'without', 'making', 'a', 'shadow', 'light', 'is', 'a', 'form', 'of', 'electromagnetic', 'radiation', 'that', 'shows', 'properties', 'of', 'both', 'waves', 'and', 'particles', 'it', 'is', 'a', 'form', 'of', 'energy', 'light', 'also', 'keeps', 'the', 'earth', 'warm', 'light', 'exists', 'in', 'tiny', 'energy', 'packets', 'called', 'photons', 'each', 'wave', 'has', 'a', 'wavelength', 'or', 'frequency', 'the', 'human', 'eye', 'sees', 'each', 'wavelength', 'as', 'a', 'different', 'color', 'rainbows', 'show', 'the', 'entire', 'spectrum', 'of', 'visible', 'light', 'the', 'separate', 'colors', 'moving', 'in', 'from', 'the', 'outer', 'edges', 'are', 'red', 'orange', 'yellow', 'green', 'blue', 'indigo', 'and', 'violet', 'other', 'colors', 'can', 'be', 'seen', 'only', 'with', 'special', 'cameras', 'or', 'instruments', 'wavelengths', 'below', 'the', 'frequency', 'of', 'red', 'are', 'called', 'infrared', 'and', 'higher', 'than', 'of', 'violet', 'are', 'called', 'ultraviolet', 'the', 'other', 'main', 'properties', 'of', 'light', 'are', 'intensity', 'polarization', 'phase', 'and', 'orbital', 'angular', 'momentum', 'in', 'physics', 'the', 'term', 'light', 'sometimes', 'refers', 'to', 'electromagnetic', 'radiation', 'of', 'any', 'wavelength', 'whether', 'visible', 'or', 'not23', 'this', 'article', 'is', 'about', 'visible', 'light', 'read', 'the', 'electromagnetic', 'radiation', 'article', 'for', 'the', 'general', 'concept', 'the', 'main', 'source', 'of', 'light', 'on', 'earth', 'is', 'the', 'sun', 'about', 'light', 'change', 'change', 'source', 'laser', 'beams', 'in', 'a', 'vacuum', 'the', 'speed', 'of', 'light', 'is', '299792458', 'meters', 'per', 'second4', 'or', 'about', '186282', 'miles', 'per', 'second', 'this', 'means', 'it', 'takes', 'about', '7', 'minutes', 'for', 'light', 'to', 'reach', 'earth', 'from', 'the', 'sun56', 'light', 'moves', 'in', 'a', 'straight', 'line', 'the', 'straight', 'line', 'path', 'is', 'often', 'drawn', 'as', 'a', 'ray', 'humans', 'can', 'only', 'see', 'rays', 'of', 'light', 'traveling', 'directly', 'into', 'the', 'eyes', 'ray', 'diagrams', 'are', 'used', 'to', 'illustrate', 'light', 'traveling', 'from', 'one', 'place', 'to', 'another', 'a', 'beam', 'of', 'light', 'can', 'be', 'thought', 'of', 'as', 'a', 'set', 'of', 'light', 'rays', 'objects', 'that', 'block', 'rays', 'of', 'light', 'can', 'create', 'shadows', 'opaque', 'objects', 'block', 'all', 'light', 'rays', 'and', 'create', 'a', 'darker', 'shadow', 'translucent', 'objects', 'block', 'some', 'rays', 'and', 'scatter', 'others', 'they', 'create', 'a', 'lighter', 'shadow', 'transparent', 'things', 'will', 'allow', 'almost', 'all', 'light', 'rays', 'to', 'pass', 'straight', 'through', 'they', 'have', 'no', 'or', 'very', 'little', 'shadow', 'light', 'can', 'easily', 'move', 'through', 'transparent', 'things', 'when', 'light', 'is', 'not', 'in', 'a', 'vacuum', 'it', 'travels', 'slower', 'than', 'the', 'speed', 'of', 'light', 'the', 'slowest', 'speed', 'of', 'light', 'ever', 'recorded', 'was', '39', 'miles', 'per', 'hour7', 'our', 'eyes', 'react', 'to', 'light', 'when', 'we', 'see', 'something', 'we', 'see', 'the', 'light', 'it', 'reflects', 'or', 'the', 'light', 'it', 'gives', 'off', 'for', 'example', 'a', 'lamp', 'gives', 'off', 'light', 'everything', 'else', 'in', 'the', 'room', 'the', 'lamp', 'is', 'in', 'reflects', 'the', 'lamps', 'light', 'as', 'the', 'viewer', 'one', 'can', 'not', 'directly', 'determine', 'where', 'the', 'ray', 'of', 'light', 'came', 'from', 'prior', 'to', 'reflecting', 'off', 'an', 'object', 'every', 'color', 'of', 'light', 'has', 'a', 'different', 'wavelength', 'the', 'shorter', 'the', 'wavelength', 'the', 'more', 'energy', 'the', 'light', 'has', 'the', 'speed', 'of', 'light', 'does', 'not', 'depend', 'on', 'its', 'energy', 'going', 'through', 'translucent', 'objects', 'can', 'slow', 'light', 'down', 'by', 'a', 'very', 'small', 'amount', 'white', 'light', 'is', 'made', 'up', 'of', 'all', 'the', 'different', 'colors', 'of', 'light', 'added', 'together', 'when', 'white', 'light', 'shines', 'through', 'a', 'prism', 'it', 'splits', 'up', 'into', 'different', 'colors', 'becoming', 'a', 'spectrum', 'the', 'spectrum', 'contains', 'all', 'of', 'the', 'wavelengths', 'of', 'light', 'that', 'we', 'can', 'see', 'red', 'light', 'has', 'the', 'longest', 'wavelength', 'and', 'violet', 'purple', 'light', 'has', 'the', 'shortest', 'light', 'with', 'a', 'wavelength', 'shorter', 'than', 'violet', 'is', 'called', 'ultraviolet', 'light', 'xrays', 'and', 'gamma', 'rays', 'are', 'forms', 'of', 'light', 'with', 'even', 'shorter', 'wavelengths', 'than', 'ultraviolet', 'light', 'with', 'a', 'wavelength', 'longer', 'than', 'red', 'is', 'called', 'infrared', 'light', 'radio', 'waves', 'are', 'a', 'form', 'of', 'electromagnetic', 'radiation', 'with', 'a', 'wavelength', 'longer', 'than', 'infrared', 'light', 'the', 'microwaves', 'that', 'are', 'used', 'to', 'heat', 'food', 'in', 'a', 'microwave', 'oven', 'are', 'also', 'a', 'form', 'of', 'electromagnetic', 'radiation', 'our', 'eyes', 'can', 'not', 'see', 'those', 'kinds', 'of', 'energy', 'but', 'there', 'are', 'some', 'cameras', 'that', 'can', 'see', 'them', 'the', 'various', 'forms', 'of', 'light', 'both', 'visible', 'and', 'invisible', 'are', 'the', 'electromagnetic', 'spectrum', 'when', 'light', 'is', 'refracted', 'in', 'raindrops', 'a', 'rainbow', 'is', 'made', 'the', 'raindrop', 'acts', 'like', 'a', 'prism', 'and', 'refracts', 'the', 'light', 'until', 'we', 'can', 'see', 'the', 'colors', 'of', 'the', 'spectrum', 'rainbow', 'in', 'budapest', 'shows', 'the', 'colors', 'of', 'the', 'visible', 'spectrum', 'light', 'and', 'color', 'are', 'forms', 'of', 'analog', 'information', 'however', 'electronic', 'cameras', 'and', 'computer', 'displays', 'work', 'with', 'digital', 'information', 'electronic', 'cameras', 'or', 'document', 'scanners', 'make', 'a', 'digital', 'version', 'of', 'a', 'color', 'image', 'by', 'separating', 'out', 'the', 'full', 'color', 'image', 'into', 'separate', 'red', 'green', 'and', 'blue', 'images', 'later', 'a', 'digital', 'display', 'uses', 'pixels', 'of', 'just', 'those', 'three', 'colors', 'computer', 'screens', 'use', 'only', 'these', 'three', 'colors', 'in', 'different', 'brightness', 'levels', 'the', 'brain', 'puts', 'them', 'together', 'to', 'see', 'all', 'of', 'the', 'other', 'colors', 'in', 'the', 'image', 'people', 'think', 'of', 'objects', 'as', 'having', 'color', 'the', 'color', 'of', 'objects', 'is', 'because', 'the', 'molecules', 'that', 'make', 'up', 'the', 'object', 'absorb', 'certain', 'light', 'waves', 'leaving', 'the', 'other', 'light', 'waves', 'to', 'bounce', 'off', 'the', 'human', 'eye', 'sees', 'the', 'wavelengths', 'of', 'all', 'of', 'the', 'light', 'that', 'was', 'not', 'absorbed', 'this', 'gives', 'the', 'brain', 'with', 'the', 'impression', 'of', 'a', 'color']\n"
          ]
        }
      ],
      "source": [
        "\n",
        "#create a function to return lower case words\n",
        "def LemNormalize(text):\n",
        "  return nltk.word_tokenize(text.lower().translate(remove_punct_dict))\n",
        "text=corpus\n",
        "print(LemNormalize(text))"
      ]
    },
    {
      "cell_type": "code",
      "execution_count": null,
      "metadata": {
        "id": "qC4EKXXAMG5G"
      },
      "outputs": [],
      "source": [
        "\n",
        "#keywords for greetings\n",
        "greeting_input=[\"hi\",\"hello\",\"hey\",\"hola\"]\n",
        "greeting_response=[\"howdy\",\"hey there\",\"hi\",\"hello :)\"]\n",
        "def greeting(sentence):\n",
        "  for word in sentence.split():\n",
        "    if word.lower() in greeting_input:\n",
        "      return random.choice(greeting_response)"
      ]
    },
    {
      "cell_type": "code",
      "execution_count": null,
      "metadata": {
        "id": "AJElv9aqMMR7"
      },
      "outputs": [],
      "source": [
        "def response(user_response):\n",
        " #user response and robo responce\n",
        "  #user_response=\"WHat is chronic disease\"\n",
        "  user_response=user_response.lower()\n",
        "  #print(user_response)\n",
        "  #robo response\n",
        "  robo_response=''\n",
        "  sent_tokens=nltk.sent_tokenize(text)\n",
        "  sent_tokens.append(user_response)\n",
        "  #print(sent_tokens)\n",
        "  tfidfvec=TfidfVectorizer(tokenizer=LemNormalize , stop_words='english')\n",
        "  tfidf=tfidfvec.fit_transform(sent_tokens)\n",
        "  #print(tfidf)\n",
        "  #get similarity score\n",
        "  val=cosine_similarity(tfidf[-1],tfidf)\n",
        "  #print(val)\n",
        "  idx=val.argsort()[0][-2]\n",
        "  flat=val.flatten()\n",
        "  flat.sort()\n",
        "  score=flat[-2]\n",
        "  #print(score)\n",
        "  if score==0:\n",
        "    robo_response=robo_response+\"sorry,i dont understand\"\n",
        "  else:\n",
        "    robo_response=robo_response+sent_tokens[idx]\n",
        "\n",
        "  sent_tokens.remove(user_response)\n",
        "  return robo_response"
      ]
    },
    {
      "cell_type": "code",
      "execution_count": null,
      "metadata": {
        "colab": {
          "background_save": true,
          "base_uri": "https://localhost:8080/"
        },
        "id": "EowUNmvTMSPk",
        "outputId": "37fb9472-912d-4fd0-f86d-e925d47cd1ae"
      },
      "outputs": [
        {
          "name": "stdout",
          "output_type": "stream",
          "text": [
            "hello!!! this is madmax,i can answer your queris related to light ,type bye to exit\n",
            "madmax: hi\n",
            "madmax:sorry,i dont understand\n",
            "madmax:Light exists in tiny energy packets called photons.\n",
            "madmax:Every color of light has a different wavelength.\n"
          ]
        }
      ],
      "source": [
        "\n",
        "greeting_input=[\"hi\",\"hello\",\"hey\",\"hola\"]\n",
        "greeting_response=[\"howdy\",\"hey there\",\"hi\",\"hello :)\"]\n",
        "def greeting(sentence):\n",
        "  for word in sentence.split():\n",
        "    if word.lower() in greeting_input:\n",
        "      return random.choice(greeting_response)\n",
        "flag=True\n",
        "print(\"hello!!! this is madmax,i can answer your queris related to light ,type bye to exit\")\n",
        "while(flag==True):\n",
        "  user_response=input(\"cherry:\")\n",
        "  user_response=user_response.lower()\n",
        "  if(user_response!='bye'):\n",
        "    if(user_response=='thanks' or user_response=='thank you'):\n",
        "      flag=False\n",
        "      print(\"madmax: anytime :)\")\n",
        "    else:\n",
        "       if( greeting(user_response) != None):\n",
        "         print(\"madmax: \"+ greeting(user_response))\n",
        "       else:\n",
        "         print(\"madmax:\"+response(user_response))\n",
        "  else:\n",
        "    flag=False\n",
        "    print(\"madmax: see you later :)\")"
      ]
    }
  ],
  "metadata": {
    "colab": {
      "provenance": [],
      "authorship_tag": "ABX9TyPrrhXrp3sg9puBJXdlXUQ5",
      "include_colab_link": true
    },
    "kernelspec": {
      "display_name": "Python 3",
      "name": "python3"
    },
    "language_info": {
      "name": "python"
    }
  },
  "nbformat": 4,
  "nbformat_minor": 0
}